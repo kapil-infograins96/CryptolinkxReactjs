{
 "cells": [
  {
   "cell_type": "code",
   "execution_count": 3,
   "id": "2b750353",
   "metadata": {},
   "outputs": [],
   "source": [
    "import os\n",
    "import django\n",
    "os.environ.setdefault('DJANGO_SETTINGS_MODULE', 'Cryptolinkx.settings')\n",
    "os.environ[\"DJANGO_ALLOW_ASYNC_UNSAFE\"] = \"true\"\n",
    "django.setup()\n",
    "    \n",
    "\n"
   ]
  },
  {
   "cell_type": "code",
   "execution_count": 11,
   "id": "93871851",
   "metadata": {},
   "outputs": [],
   "source": [
    "from django.db.models import (\n",
    "    OuterRef,\n",
    "    Sum\n",
    "    Subquery\n",
    ")"
   ]
  },
  {
   "cell_type": "code",
   "execution_count": 25,
   "id": "f9a34fc8",
   "metadata": {},
   "outputs": [
    {
     "data": {
      "text/plain": [
       "<QuerySet []>"
      ]
     },
     "execution_count": 25,
     "metadata": {},
     "output_type": "execute_result"
    }
   ],
   "source": [
    "wallet = Crypto_wallet.objects.all()\n",
    "wallet"
   ]
  },
  {
   "cell_type": "code",
   "execution_count": 26,
   "id": "55f59cd6",
   "metadata": {},
   "outputs": [],
   "source": [
    "subquery_for_total_quantity = Order.objects.filter(user_id = 1,crypto_name=\"btc\", type__iexact = \"Buy\" , status = \"Completed\").values(\n",
    "    \"crypto_name\"\n",
    ").distinct().annotate(\n",
    "    total_quantity  = Order.objects.filter(crypto_name = OuterRef(\"crypto_name\")).values(\"crypto_name\").annotate(\n",
    "    total_quantity = Sum(\"quantity\")\n",
    "    ).values(\"total_quantity\")\n",
    ")"
   ]
  },
  {
   "cell_type": "code",
   "execution_count": 28,
   "id": "6bedbe67",
   "metadata": {},
   "outputs": [],
   "source": [
    "subquery_for_total_invested = Order.objects.filter(user_id=1).values(\n",
    "    \"crypto_name\"\n",
    ").distinct().annotate(\n",
    "    total_invested  = Order.objects.filter(crypto_name = OuterRef(\"crypto_name\")).values(\"crypto_name\").annotate(\n",
    "    total_invested = Sum(\"invested_rs\")\n",
    "    ).values(\"total_invested\")\n",
    ")"
   ]
  },
  {
   "cell_type": "code",
   "execution_count": 29,
   "id": "3303e1d2",
   "metadata": {},
   "outputs": [
    {
     "data": {
      "text/plain": [
       "<QuerySet [{'crypto_name': 'shib', 'total_quantity': 10000.0}, {'crypto_name': 'btc', 'total_quantity': 5000.0}]>"
      ]
     },
     "execution_count": 29,
     "metadata": {},
     "output_type": "execute_result"
    }
   ],
   "source": [
    "subquery_for_total_quantity"
   ]
  },
  {
   "cell_type": "code",
   "execution_count": 30,
   "id": "eb3a67d9",
   "metadata": {},
   "outputs": [
    {
     "data": {
      "text/plain": [
       "<QuerySet [{'crypto_name': 'shib', 'total_invested': 20000.0}, {'crypto_name': 'btc', 'total_invested': 10000.0}]>"
      ]
     },
     "execution_count": 30,
     "metadata": {},
     "output_type": "execute_result"
    }
   ],
   "source": [
    "subquery_for_total_invested"
   ]
  },
  {
   "cell_type": "code",
   "execution_count": null,
   "id": "6b608b9f",
   "metadata": {},
   "outputs": [],
   "source": [
    "if Crypto_wallet.objects.filter(user_id = 1).exists():\n",
    "    Crypto_wallet.objects.filter(user_id = 1).update()\n",
    "    "
   ]
  },
  {
   "cell_type": "code",
   "execution_count": null,
   "id": "43a0d73a",
   "metadata": {},
   "outputs": [],
   "source": []
  },
  {
   "cell_type": "code",
   "execution_count": null,
   "id": "3d479ed0",
   "metadata": {},
   "outputs": [],
   "source": [
    "Wallet.objects.filter(user_id__in=list(betting_user_list)).update(amount=F('amount')+Subquery(subquery))"
   ]
  }
 ],
 "metadata": {
  "kernelspec": {
   "display_name": "Django Shell-Plus",
   "language": "python",
   "name": "django_extensions"
  },
  "language_info": {
   "codemirror_mode": {
    "name": "ipython",
    "version": 3
   },
   "file_extension": ".py",
   "mimetype": "text/x-python",
   "name": "python",
   "nbconvert_exporter": "python",
   "pygments_lexer": "ipython3",
   "version": "3.11.1"
  }
 },
 "nbformat": 4,
 "nbformat_minor": 5
}
