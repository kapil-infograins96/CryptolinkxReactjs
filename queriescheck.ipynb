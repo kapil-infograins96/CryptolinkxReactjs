{
 "cells": [
  {
   "cell_type": "code",
   "execution_count": 6,
   "id": "2b750353",
   "metadata": {},
   "outputs": [],
   "source": [
    "# import os, sys\n",
    "\n",
    "\n",
    "# os.environ.setdefault(\"DJANGO_SETTINGS_MODULE\", \"Cryptolinkx.settings.py\")\n",
    "# import django\n",
    "# django.setup()\n",
    "\n",
    "\n",
    "\n",
    "import os\n",
    "import django\n",
    "os.environ.setdefault('DJANGO_SETTINGS_MODULE', 'Cryptolinkx.settings')\n",
    "os.environ[\"DJANGO_ALLOW_ASYNC_UNSAFE\"] = \"true\"\n",
    "django.setup()\n",
    "    \n",
    "\n"
   ]
  },
  {
   "cell_type": "code",
   "execution_count": 7,
   "id": "f9a34fc8",
   "metadata": {},
   "outputs": [],
   "source": [
    "wallet = Crypto_wallet.objects.all()"
   ]
  },
  {
   "cell_type": "code",
   "execution_count": 13,
   "id": "55f59cd6",
   "metadata": {},
   "outputs": [
    {
     "data": {
      "text/plain": [
       "100000.0"
      ]
     },
     "execution_count": 13,
     "metadata": {},
     "output_type": "execute_result"
    }
   ],
   "source": [
    "get_latest_order = Order.objects.filter(user_id = 1).last()\n",
    "get_latest_order\n",
    "get_latest_order.invested_rs"
   ]
  },
  {
   "cell_type": "code",
   "execution_count": null,
   "id": "3303e1d2",
   "metadata": {},
   "outputs": [],
   "source": []
  }
 ],
 "metadata": {
  "kernelspec": {
   "display_name": "Django Shell-Plus",
   "language": "python",
   "name": "django_extensions"
  },
  "language_info": {
   "codemirror_mode": {
    "name": "ipython",
    "version": 3
   },
   "file_extension": ".py",
   "mimetype": "text/x-python",
   "name": "python",
   "nbconvert_exporter": "python",
   "pygments_lexer": "ipython3",
   "version": "3.11.1"
  }
 },
 "nbformat": 4,
 "nbformat_minor": 5
}
